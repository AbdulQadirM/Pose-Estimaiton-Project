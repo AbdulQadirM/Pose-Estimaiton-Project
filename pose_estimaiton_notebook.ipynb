{
 "cells": [
  {
   "attachments": {},
   "cell_type": "markdown",
   "metadata": {},
   "source": [
    "##                                     Pose Estimation with Mediapipe\n",
    "This is a Python script that uses the Mediapipe library to perform pose estimation on an image.\n",
    "The script first imports the necessary libraries including OpenCV for image processing, Mediapipe for pose estimation, and time for timing purposes."
   ]
  },
  {
   "attachments": {},
   "cell_type": "markdown",
   "metadata": {},
   "source": [
    "First import libraries"
   ]
  },
  {
   "cell_type": "code",
   "execution_count": 1,
   "metadata": {},
   "outputs": [],
   "source": [
    "import cv2\n",
    "import mediapipe as mp\n",
    "import time"
   ]
  },
  {
   "attachments": {},
   "cell_type": "markdown",
   "metadata": {},
   "source": [
    "It then initializes the pose estimation model and loads an image for processing.\n",
    "The image is converted to RGB format and processed by the pose estimation model using the pose.process() method. The resulting landmarks of the pose are printed to the console."
   ]
  },
  {
   "cell_type": "code",
   "execution_count": null,
   "metadata": {},
   "outputs": [],
   "source": [
    "mpDraw = mp.solutions.drawing_utils\n",
    "img = cv2.imread(\"C:\\opencv\\main\\poseEstimationproject\\posePhotos\\man1.jpg\")\n",
    "\n",
    "RGBimg = cv2.cvtColor(img, cv2.COLOR_BGR2RGB) \n",
    "results = pose.process(RGBimg) \n",
    "print(results.pose_landmarks)"
   ]
  },
  {
   "attachments": {},
   "cell_type": "markdown",
   "metadata": {},
   "source": [
    "If there are any pose landmarks detected, they are drawn on the image using the mpDraw.draw_landmarks() method. Additionally, a circle is drawn at each detected landmark using the cv2.circle() method."
   ]
  },
  {
   "cell_type": "code",
   "execution_count": null,
   "metadata": {},
   "outputs": [],
   "source": [
    "if results.pose_landmarks:\n",
    "    mpDraw.draw_landmarks(img, results.pose_landmarks, mpPose.POSE_CONNECTIONS)\n",
    "    for id, lm in enumerate(results.pose_landmarks.landmark):\n",
    "        h, w, c = img.shape\n",
    "        print(id, lm)\n",
    "        cx, cy = int(lm.x*w), int(lm.y*h)\n",
    "        cv2.circle(img, (cx, cy), 15, (255, 0, 0), cv2.FILLED)\n",
    "\n",
    "        \n",
    "img = cv2.resize(img ,(1000, 700), fx=0, fy=0, interpolation = cv2.INTER_CUBIC)\n",
    "\n",
    "# cv2.resize(img, (200, 200), fx = 0.1, fy = 0.1)\n",
    "cv2.imshow('image', img)\n",
    "cv2.imwrite('man1_result.jpg', img)\n",
    "\n",
    "cv2.waitKey(0)"
   ]
  }
 ],
 "metadata": {
  "kernelspec": {
   "display_name": ".venv",
   "language": "python",
   "name": "python3"
  },
  "language_info": {
   "codemirror_mode": {
    "name": "ipython",
    "version": 3
   },
   "file_extension": ".py",
   "mimetype": "text/x-python",
   "name": "python",
   "nbconvert_exporter": "python",
   "pygments_lexer": "ipython3",
   "version": "3.8.8"
  },
  "orig_nbformat": 4,
  "vscode": {
   "interpreter": {
    "hash": "9549edd590dad2e47b68bb89a9110a6a20f987ff2529a71a9123232dd873c47e"
   }
  }
 },
 "nbformat": 4,
 "nbformat_minor": 2
}
